{
  "nbformat": 4,
  "nbformat_minor": 0,
  "metadata": {
    "colab": {
      "provenance": []
    },
    "kernelspec": {
      "name": "python3",
      "display_name": "Python 3"
    },
    "language_info": {
      "name": "python"
    }
  },
  "cells": [
    {
      "cell_type": "markdown",
      "source": [
        "# Theory Questions"
      ],
      "metadata": {
        "id": "pNNfDyaGkZMk"
      }
    },
    {
      "cell_type": "markdown",
      "source": [
        "1: What is Python, and why is it popular?\n",
        "  - Python is a programming language that is easy to understand and write, making it a popular choice among developers and programmers.\n",
        "  - It is a high-level, interpreted programming language.\n",
        "  - Python has a large and active community of developers, an extensive standard library, and third-party packages for various domains.\n",
        "  - It is widely used in areas like data science, web development, automation, and machine learning."
      ],
      "metadata": {
        "id": "vY0VUOuGlDhf"
      }
    },
    {
      "cell_type": "markdown",
      "source": [
        "2: What is an interpreter in Python?\n",
        "  - An interpreter in Python executes code line by line, translating it into machine code during runtime.\n",
        "  - It helps in quick testing and debugging, as errors are shown immediately after the line is executed."
      ],
      "metadata": {
        "id": "lBSeKrXRnhgV"
      }
    },
    {
      "cell_type": "markdown",
      "source": [
        "3: What are pre-defined keywords in Python?\n",
        "  - Pre-defined keywords are reserved words in Python that have specific meanings and uses in the language.\n",
        "  - For example: if, else, for, while, and def etc.\n",
        "  - They are part of Python’s syntax and can not be used as variable names."
      ],
      "metadata": {
        "id": "9DwMKyIPo0_D"
      }
    },
    {
      "cell_type": "markdown",
      "source": [
        "4: Can keywords be used as variable names?\n",
        "  - No, keywords cannot be used as variable names in Python.\n",
        "  - Since they have fixed meanings in the language, using them as variable names would cause syntax errors and confusion in the program."
      ],
      "metadata": {
        "id": "VADIyF-gpNDH"
      }
    },
    {
      "cell_type": "markdown",
      "source": [
        "5: What is mutability in Python?\n",
        "  - Mutability refers to whether the content of an object can be changed after it is created.\n",
        "  - Mutable objects like lists can be modified, while immutable objects like strings & tuples can not be changed once created."
      ],
      "metadata": {
        "id": "qGLsxM7LpcvY"
      }
    },
    {
      "cell_type": "markdown",
      "source": [
        "6: Why are lists mutable, but tuples are immutable?\n",
        "  - Lists are mutable to allow changes such as adding, removing, or modifying elements.\n",
        "  - While Tuples are immutable to ensure that data remains fixed and secure, making them suitable for constant values."
      ],
      "metadata": {
        "id": "lz7RDmVzp0M9"
      }
    },
    {
      "cell_type": "markdown",
      "source": [
        "7: What is the difference between ***==*** and ***is*** operators in Python?\n",
        "  - ***==*** checks if the values of two objects are the same.\n",
        "  - ***is*** checks if two variables point to the same memory location like the same object.\n",
        "  - They may give different results for objects with the same value but different identities."
      ],
      "metadata": {
        "id": "Q_jygsj5qFkW"
      }
    },
    {
      "cell_type": "markdown",
      "source": [
        "8: What are logical operators in Python?\n",
        "  - Logical operators are used to combine conditional statements.\n",
        "  - There are as following:\n",
        "  - AND: Returns True if both conditions are true.\n",
        "  - OR: Returns True if at least one condition is true.\n",
        "  - NOT: Reverses the Boolean value of its operand."
      ],
      "metadata": {
        "id": "aXfWQPOgq0il"
      }
    },
    {
      "cell_type": "markdown",
      "source": [
        "9: What is type casting in Python?\n",
        "  - Type casting is referred to as type conversion.\n",
        "  - It is the process of changing one data type to another in Python.\n",
        "  - Python provides built-in functions for type casting, such as int(), float(), str(), list(), tuple(), dict(), etc.\n",
        "  - Type casting is often necessary for performing arithmetic operations, data manipulation, and input/output operations in Python programs."
      ],
      "metadata": {
        "id": "PI67NLEwsb5K"
      }
    },
    {
      "cell_type": "markdown",
      "source": [
        "10: What is the difference between implicit and explicit type casting?\n",
        "  - Implicit casting is done automatically by Python when it converts values without loss of data like int to float.\n",
        "  - Explicit casting is done manually by the programmer using functions like int(), float(), or str()."
      ],
      "metadata": {
        "id": "J-YjiELNtCGB"
      }
    },
    {
      "cell_type": "markdown",
      "source": [
        "11: What is the purpose of conditional statements in Python?\n",
        "  - Conditional statements allow programs to make decisions and execute certain blocks of code based on whether conditions are true or false.\n",
        "  - This helps in controlling the flow of the program using if, elif, and else."
      ],
      "metadata": {
        "id": "J_Oa2jyatdCx"
      }
    },
    {
      "cell_type": "markdown",
      "source": [
        "12: How does the elif statement work?\n",
        "  - The elif statement checks another condition if the previous if statement is false.\n",
        "  - It allows multiple conditions to be checked one by one, and executes the block of the first true condition."
      ],
      "metadata": {
        "id": "jvYVXg4jtu0j"
      }
    },
    {
      "cell_type": "markdown",
      "source": [
        "13: What is the difference between for and ***while*** loops?\n",
        "  - ***for*** loop is used when the number of iterations is known, often used to iterate over sequences like lists or ranges.\n",
        "  - ***while*** loop is used when the condition is evaluated atleast one time or repeatedly, and the number of iterations is not known in advance."
      ],
      "metadata": {
        "id": "yNghCzpRt7Uw"
      }
    },
    {
      "cell_type": "markdown",
      "source": [
        "14: Describe a scenario where a ***while*** loop is more suitable than a for loop.\n",
        "  - A ***while*** loop is better when repeating actions until a certain condition is met, such as asking a user to input the correct password.\n",
        "  - Since the number of attempts is unknown, ***while*** helps continue until the correct input is given."
      ],
      "metadata": {
        "id": "AmQ0sKIJuVhj"
      }
    },
    {
      "cell_type": "markdown",
      "source": [
        "# Practical Questions"
      ],
      "metadata": {
        "id": "LCHEjtBfv4ty"
      }
    },
    {
      "cell_type": "code",
      "execution_count": 1,
      "metadata": {
        "colab": {
          "base_uri": "https://localhost:8080/"
        },
        "id": "u8O3jKk1jOkn",
        "outputId": "e8a22c4a-da7f-407d-946c-37a0042850bc"
      },
      "outputs": [
        {
          "output_type": "stream",
          "name": "stdout",
          "text": [
            "Hello, World!\n"
          ]
        }
      ],
      "source": [
        "# 1. Write a Python program to print \"Hello, World!\"\n",
        "print(\"Hello, World!\")"
      ]
    },
    {
      "cell_type": "code",
      "source": [
        "# 2. Write a Python program that displays your name and age.\n",
        "name = \"Diya\"\n",
        "age = 20\n",
        "print(f\"My name is {name}. I'm {age} years old.\")"
      ],
      "metadata": {
        "colab": {
          "base_uri": "https://localhost:8080/"
        },
        "id": "6ct3eydFwixX",
        "outputId": "7226913a-48a4-4053-c112-8e8d9c1e3804"
      },
      "execution_count": 2,
      "outputs": [
        {
          "output_type": "stream",
          "name": "stdout",
          "text": [
            "My name is Diya. I'm 20 years old.\n"
          ]
        }
      ]
    },
    {
      "cell_type": "code",
      "source": [
        "# 3. Write code to print all the pre-defined keywords in Python using the keyword library.\n",
        "help('keywords')"
      ],
      "metadata": {
        "colab": {
          "base_uri": "https://localhost:8080/"
        },
        "id": "wcT0BOPrwur4",
        "outputId": "0ecf13fc-4118-47b5-c0f6-7f260eaac193"
      },
      "execution_count": 3,
      "outputs": [
        {
          "output_type": "stream",
          "name": "stdout",
          "text": [
            "\n",
            "Here is a list of the Python keywords.  Enter any keyword to get more help.\n",
            "\n",
            "False               class               from                or\n",
            "None                continue            global              pass\n",
            "True                def                 if                  raise\n",
            "and                 del                 import              return\n",
            "as                  elif                in                  try\n",
            "assert              else                is                  while\n",
            "async               except              lambda              with\n",
            "await               finally             nonlocal            yield\n",
            "break               for                 not                 \n",
            "\n"
          ]
        }
      ]
    },
    {
      "cell_type": "code",
      "source": [
        "# 4. Write a program that checks if a given word is a Python keyword.\n",
        "import keyword\n",
        "word = input(\"Enter a word: \")\n",
        "if keyword.iskeyword(word):\n",
        "    print(f\"{word} is a Python keyword.\")\n",
        "else:\n",
        "    print(f\"{word} is not a Python keyword.\")"
      ],
      "metadata": {
        "colab": {
          "base_uri": "https://localhost:8080/"
        },
        "id": "aWopJFKcxTzi",
        "outputId": "f27a3376-c5f0-436b-cf1d-dc98bce3819c"
      },
      "execution_count": 4,
      "outputs": [
        {
          "output_type": "stream",
          "name": "stdout",
          "text": [
            "Enter a word: pass\n",
            "pass is a Python keyword.\n"
          ]
        }
      ]
    },
    {
      "cell_type": "code",
      "source": [
        "# 5. Create a list and tuple in Python, and demonstrate how attempting to change an element works differently for each.\n",
        "my_list = [1, 2, 3]\n",
        "my_list[0] = 4\n",
        "print(my_list)\n",
        "\n",
        "my_tuple = (1, 2, 3)\n",
        "try:\n",
        "    my_tuple[0] = 100\n",
        "except TypeError as e:\n",
        "    print(\"Error modifying tuple:\", e)\n",
        "\n",
        "print(my_tuple)"
      ],
      "metadata": {
        "colab": {
          "base_uri": "https://localhost:8080/"
        },
        "id": "FXAnfSXiy-cd",
        "outputId": "2678edfb-c67a-4c17-8b79-43839f9276c0"
      },
      "execution_count": 5,
      "outputs": [
        {
          "output_type": "stream",
          "name": "stdout",
          "text": [
            "[4, 2, 3]\n",
            "Error modifying tuple: 'tuple' object does not support item assignment\n",
            "(1, 2, 3)\n"
          ]
        }
      ]
    },
    {
      "cell_type": "code",
      "source": [
        "# 6.  Write a function to demonstrate the behavior of mutable and immutable arguments.\n",
        "def modify_values(num, my_list):\n",
        "    num += 10\n",
        "    my_list.append(4)\n",
        "    print(\"Inside function - num:\", num, \"list:\", my_list)\n",
        "\n",
        "n = 5\n",
        "n_list = [1, 2, 3]\n",
        "modify_values(n, n_list)\n",
        "print(\"Outside function - num:\", n, \"list:\", n_list)\n"
      ],
      "metadata": {
        "colab": {
          "base_uri": "https://localhost:8080/"
        },
        "id": "x_XPP9cYzqEp",
        "outputId": "cf38729e-3abf-48db-9564-74534d2fd8b7"
      },
      "execution_count": 6,
      "outputs": [
        {
          "output_type": "stream",
          "name": "stdout",
          "text": [
            "Inside function - num: 15 list: [1, 2, 3, 4]\n",
            "Outside function - num: 5 list: [1, 2, 3, 4]\n"
          ]
        }
      ]
    },
    {
      "cell_type": "code",
      "source": [
        "# 7. Write a program that performs basic arithmetic operations on two user-input numbers.\n",
        "a = float(input(\"Enter first number: \"))\n",
        "b = float(input(\"Enter second number: \"))\n",
        "\n",
        "print(\"Addition:\", a + b)\n",
        "print(\"Subtraction:\", a - b)\n",
        "print(\"Multiplication:\", a * b)\n",
        "print(\"Division:\", a / b)"
      ],
      "metadata": {
        "colab": {
          "base_uri": "https://localhost:8080/"
        },
        "id": "naW135420oqU",
        "outputId": "fef533ea-c484-422e-9000-7c5629e843f8"
      },
      "execution_count": 7,
      "outputs": [
        {
          "output_type": "stream",
          "name": "stdout",
          "text": [
            "Enter first number: 12\n",
            "Enter second number: 10\n",
            "Addition: 22.0\n",
            "Subtraction: 2.0\n",
            "Multiplication: 120.0\n",
            "Division: 1.2\n"
          ]
        }
      ]
    },
    {
      "cell_type": "code",
      "source": [
        "# 8. Write a program to demonstrate the use of logical operators.\n",
        "a = 5\n",
        "b = 10\n",
        "\n",
        "print(\"a > 10 and b > 0:\", a > 10 and b > 0)\n",
        "print(\"a < 0 or b == 10:\", a < 0 or b == 10)\n",
        "print(\"not(a == b):\", not (a == b))"
      ],
      "metadata": {
        "colab": {
          "base_uri": "https://localhost:8080/"
        },
        "id": "YV9yTiEd1Dbc",
        "outputId": "70de01ea-bcdb-4dbd-9eb5-a13722a2a519"
      },
      "execution_count": 8,
      "outputs": [
        {
          "output_type": "stream",
          "name": "stdout",
          "text": [
            "a > 10 and b > 0: False\n",
            "a < 0 or b == 10: True\n",
            "not(a == b): True\n"
          ]
        }
      ]
    },
    {
      "cell_type": "code",
      "source": [
        "# 9. Write a Python program to convert user input from string to integer, float, and boolean types.\n",
        "user_input = input(\"Enter number as a string: \")\n",
        "\n",
        "int_value = int(user_input)\n",
        "float_value = float(user_input)\n",
        "bool_value = bool(user_input)\n",
        "\n",
        "print(\"Integer:\", int_value)\n",
        "print(\"Float:\", float_value)\n",
        "print(\"Boolean:\", bool_value)\n"
      ],
      "metadata": {
        "colab": {
          "base_uri": "https://localhost:8080/"
        },
        "id": "IGYxgLyT3Wd_",
        "outputId": "a8641913-291f-451c-f629-d53e31ab14fa"
      },
      "execution_count": 9,
      "outputs": [
        {
          "output_type": "stream",
          "name": "stdout",
          "text": [
            "Enter number as a string: 20\n",
            "Integer: 20\n",
            "Float: 20.0\n",
            "Boolean: True\n"
          ]
        }
      ]
    },
    {
      "cell_type": "code",
      "source": [
        "# 10. Write code to demonstrate type casting with list elements\n",
        "string_list = ['1', '2', '3']\n",
        "int_list = [int(x) for x in string_list]\n",
        "\n",
        "print(\"Original list:\", string_list)\n",
        "print(\"After casting to integers:\", int_list)\n"
      ],
      "metadata": {
        "colab": {
          "base_uri": "https://localhost:8080/"
        },
        "id": "VHPMUe0a389a",
        "outputId": "c38387d1-5de9-4966-ec3d-9f89fc5408f6"
      },
      "execution_count": 10,
      "outputs": [
        {
          "output_type": "stream",
          "name": "stdout",
          "text": [
            "Original list: ['1', '2', '3']\n",
            "After casting to integers: [1, 2, 3]\n"
          ]
        }
      ]
    },
    {
      "cell_type": "code",
      "source": [
        "# 11. Write a program that checks if a number is positive, negative, or zero.\n",
        "num = int(input(\"Enter a number: \"))\n",
        "\n",
        "if num > 0:\n",
        "    print(\"Positive number\")\n",
        "elif num < 0:\n",
        "    print(\"Negative number\")\n",
        "else:\n",
        "    print(\"Zero\")\n"
      ],
      "metadata": {
        "colab": {
          "base_uri": "https://localhost:8080/"
        },
        "id": "3mV-sLy94kwe",
        "outputId": "d2af9dca-81a2-4c47-ad2c-2b6b91fc8168"
      },
      "execution_count": 11,
      "outputs": [
        {
          "output_type": "stream",
          "name": "stdout",
          "text": [
            "Enter a number: 5\n",
            "Positive number\n"
          ]
        }
      ]
    },
    {
      "cell_type": "code",
      "source": [
        "# 12. Write a for loop to print numbers from 1 to 10.\n",
        "for num in range(1, 11):\n",
        "  print(num)"
      ],
      "metadata": {
        "colab": {
          "base_uri": "https://localhost:8080/"
        },
        "id": "JRh-d_cE4tmZ",
        "outputId": "e42bfea0-8024-40e7-b56a-f524e1c7815f"
      },
      "execution_count": 12,
      "outputs": [
        {
          "output_type": "stream",
          "name": "stdout",
          "text": [
            "1\n",
            "2\n",
            "3\n",
            "4\n",
            "5\n",
            "6\n",
            "7\n",
            "8\n",
            "9\n",
            "10\n"
          ]
        }
      ]
    },
    {
      "cell_type": "code",
      "source": [
        "# 13. Write a Python program to find the sum of all even numbers between 1 and 50.\n",
        "sum_even = 0\n",
        "for num in range(2, 51, 2):\n",
        "    sum_even += num\n",
        "print(\"Sum of even numbers between 1 and 50:\", sum_even)\n"
      ],
      "metadata": {
        "colab": {
          "base_uri": "https://localhost:8080/"
        },
        "id": "Rg4Sl9ax42aT",
        "outputId": "2c6afc31-7cc9-491a-fb3b-46acc546ebdd"
      },
      "execution_count": 13,
      "outputs": [
        {
          "output_type": "stream",
          "name": "stdout",
          "text": [
            "Sum of even numbers between 1 and 50: 650\n"
          ]
        }
      ]
    },
    {
      "cell_type": "code",
      "source": [
        "# 14. Write a program to reverse a string using a while loop.\n",
        "string = input(\"Enter a string: \")\n",
        "reversed_string = \"\"\n",
        "index = len(string) - 1\n",
        "\n",
        "while index >= 0:\n",
        "    reversed_string += string[index]\n",
        "    index -= 1\n",
        "\n",
        "print(\"Reversed string:\", reversed_string)"
      ],
      "metadata": {
        "colab": {
          "base_uri": "https://localhost:8080/"
        },
        "id": "YoZKYD-x5DQu",
        "outputId": "9363a102-2482-463a-cef4-7a80ad20e95e"
      },
      "execution_count": 14,
      "outputs": [
        {
          "output_type": "stream",
          "name": "stdout",
          "text": [
            "Enter a string: Diya\n",
            "Reversed string: ayiD\n"
          ]
        }
      ]
    },
    {
      "cell_type": "code",
      "source": [
        "# 15. Write a Python program to calculate the factorial of a number provided by the user using a while loop.\n",
        "num = int(input(\"Enter a number: \"))\n",
        "factorial = 1\n",
        "answer = 1\n",
        "\n",
        "while answer <= num:\n",
        "    factorial *= answer\n",
        "    answer += 1\n",
        "\n",
        "print(\"Factorial:\", factorial)\n"
      ],
      "metadata": {
        "colab": {
          "base_uri": "https://localhost:8080/"
        },
        "id": "DHHwwYWr5fM0",
        "outputId": "ce050cf9-ff9e-4d3f-a5da-896b32495dc8"
      },
      "execution_count": 15,
      "outputs": [
        {
          "output_type": "stream",
          "name": "stdout",
          "text": [
            "Enter a number: 8\n",
            "Factorial: 40320\n"
          ]
        }
      ]
    }
  ]
}